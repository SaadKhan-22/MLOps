{
 "cells": [
  {
   "cell_type": "code",
   "execution_count": 12,
   "id": "baf572ce-371e-4777-9973-fec8568e7b55",
   "metadata": {},
   "outputs": [
    {
     "name": "stdout",
     "output_type": "stream",
     "text": [
      "created via codespaces\n"
     ]
    }
   ],
   "source": [
    "print(\"created via codespaces\")"
   ]
  },
  {
   "cell_type": "code",
   "execution_count": 15,
   "id": "ed53d1f4-b238-4f4f-8d52-3fb4fac286ad",
   "metadata": {},
   "outputs": [],
   "source": [
    "import pandas as pd\n",
    "import numpy as np\n",
    "import pyarrow"
   ]
  },
  {
   "cell_type": "code",
   "execution_count": 16,
   "id": "7c5013a7-6c4d-4107-b3d2-99aea299382a",
   "metadata": {},
   "outputs": [
    {
     "data": {
      "text/plain": [
       "'2.3.1'"
      ]
     },
     "execution_count": 16,
     "metadata": {},
     "output_type": "execute_result"
    }
   ],
   "source": [
    "pd.__version__"
   ]
  },
  {
   "cell_type": "code",
   "execution_count": 24,
   "id": "2c0d5caf-de39-4a92-94e1-a8673cc2bca5",
   "metadata": {},
   "outputs": [],
   "source": [
    "#df = pd.read_parquet(\"https://d37ci6vzurychx.cloudfront.net/trip-data/yellow_tripdata_2009-10.parquet\")"
   ]
  },
  {
   "cell_type": "code",
   "execution_count": 25,
   "id": "a277bb61-377d-4c85-89e0-1bc3c48f7bb3",
   "metadata": {},
   "outputs": [],
   "source": [
    "#!pip install pyarrow"
   ]
  }
 ],
 "metadata": {
  "kernelspec": {
   "display_name": "Python 3 (ipykernel)",
   "language": "python",
   "name": "python3"
  },
  "language_info": {
   "codemirror_mode": {
    "name": "ipython",
    "version": 3
   },
   "file_extension": ".py",
   "mimetype": "text/x-python",
   "name": "python",
   "nbconvert_exporter": "python",
   "pygments_lexer": "ipython3",
   "version": "3.12.3"
  }
 },
 "nbformat": 4,
 "nbformat_minor": 5
}
